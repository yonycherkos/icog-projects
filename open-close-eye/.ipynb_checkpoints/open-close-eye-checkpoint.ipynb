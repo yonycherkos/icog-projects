{
 "cells": [
  {
   "cell_type": "markdown",
   "metadata": {},
   "source": [
    "# Part 1: Data preprocessing"
   ]
  },
  {
   "cell_type": "code",
   "execution_count": 1,
   "metadata": {},
   "outputs": [
    {
     "name": "stderr",
     "output_type": "stream",
     "text": [
      "Using TensorFlow backend.\n"
     ]
    }
   ],
   "source": [
    "# importing the necessary libraries\n",
    "import numpy as np\n",
    "import matplotlib.pyplot as plt\n",
    "import os\n",
    "import cv2\n",
    "from keras.preprocessing.image import ImageDataGenerator\n",
    "from keras.utils import normalize, to_categorical\n",
    "from keras.models import Sequential\n",
    "from keras.layers import Dense\n",
    "from keras.layers import Conv2D\n",
    "from keras.layers import MaxPooling2D\n",
    "from keras.layers import Flatten\n",
    "from keras.callbacks import TensorBoard"
   ]
  },
  {
   "cell_type": "markdown",
   "metadata": {},
   "source": [
    "## Step 1: Creating the training datasets"
   ]
  },
  {
   "cell_type": "code",
   "execution_count": 2,
   "metadata": {},
   "outputs": [],
   "source": [
    "# creating the training dataset\n",
    "categories = ['open', 'close']\n",
    "training_path = 'dataset/training_set'\n",
    "training_set = []\n",
    "for category in categories:\n",
    "    path = os.path.join(training_path, category)\n",
    "    label = categories.index(category)\n",
    "    for img in os.listdir(path):\n",
    "        img_array = cv2.imread(os.path.join(path, img), cv2.IMREAD_GRAYSCALE)\n",
    "        if img_array is None:\n",
    "            continue\n",
    "        training_set.append([img_array, label])"
   ]
  },
  {
   "cell_type": "code",
   "execution_count": 3,
   "metadata": {},
   "outputs": [],
   "source": [
    "# shuffle the training data\n",
    "np.random.shuffle(training_set)"
   ]
  },
  {
   "cell_type": "code",
   "execution_count": 4,
   "metadata": {},
   "outputs": [],
   "source": [
    "# splitting the training data into it's features and labels(X_train, y_train) and reshape them\n",
    "X_train = []\n",
    "y_train = []\n",
    "for feature, label in training_set:\n",
    "    X_train.append(feature)\n",
    "    y_train.append(label)    \n",
    "X_train = np.array(X_train).reshape((-1, 24, 24, 1))\n",
    "y_train = np.array(y_train)"
   ]
  },
  {
   "cell_type": "markdown",
   "metadata": {},
   "source": [
    "## Step 2: Creating the test datasets"
   ]
  },
  {
   "cell_type": "code",
   "execution_count": 5,
   "metadata": {},
   "outputs": [],
   "source": [
    "# creating the test dataset\n",
    "categories = ['open', 'close']\n",
    "test_path = 'dataset/test_set'\n",
    "test_set = []\n",
    "for category in categories:\n",
    "    path = os.path.join(test_path, category)\n",
    "    label = categories.index(category)\n",
    "    for img in os.listdir(path):\n",
    "        img_array = cv2.imread(os.path.join(path, img), cv2.IMREAD_GRAYSCALE)\n",
    "        if img_array is None:\n",
    "            continue\n",
    "        test_set.append([img_array, label])"
   ]
  },
  {
   "cell_type": "code",
   "execution_count": 6,
   "metadata": {},
   "outputs": [],
   "source": [
    "# shuffle the test set\n",
    "np.random.shuffle(test_set)"
   ]
  },
  {
   "cell_type": "code",
   "execution_count": 7,
   "metadata": {},
   "outputs": [],
   "source": [
    "# splitting the set data into it's features and labels(X_train, y_train) and reshape them\n",
    "X_test = []\n",
    "y_test = []\n",
    "for feature, label in training_set:\n",
    "    X_test.append(feature)\n",
    "    y_test.append(label)\n",
    "X_test = np.array(X_test).reshape(-1, 24, 24, 1)\n",
    "y_test = np.array(y_test)"
   ]
  },
  {
   "cell_type": "markdown",
   "metadata": {},
   "source": [
    "## Step 3: preparing the training and testing dataset"
   ]
  },
  {
   "cell_type": "code",
   "execution_count": 8,
   "metadata": {},
   "outputs": [],
   "source": [
    "# normalizing the features(X_train, X_test)\n",
    "X_train = normalize(X_train, axis = 1)\n",
    "X_test = normalize(X_test, axis = 1)"
   ]
  },
  {
   "cell_type": "code",
   "execution_count": 9,
   "metadata": {},
   "outputs": [],
   "source": [
    "# Converting the labels(y_train, y_test) to one hot encoder\n",
    "num_classes = 2\n",
    "y_train = to_categorical(y_train, num_classes = num_classes)\n",
    "y_test = to_categorical(y_test, num_classes = num_classes)"
   ]
  },
  {
   "cell_type": "markdown",
   "metadata": {},
   "source": [
    "# Part 2: Building and Training CNN model"
   ]
  },
  {
   "cell_type": "code",
   "execution_count": 10,
   "metadata": {},
   "outputs": [
    {
     "name": "stdout",
     "output_type": "stream",
     "text": [
      "WARNING:tensorflow:From C:\\Users\\r\\Anaconda3\\lib\\site-packages\\tensorflow\\python\\framework\\op_def_library.py:263: colocate_with (from tensorflow.python.framework.ops) is deprecated and will be removed in a future version.\n",
      "Instructions for updating:\n",
      "Colocations handled automatically by placer.\n",
      "_________________________________________________________________\n",
      "Layer (type)                 Output Shape              Param #   \n",
      "=================================================================\n",
      "conv2d_1 (Conv2D)            (None, 20, 20, 16)        416       \n",
      "_________________________________________________________________\n",
      "max_pooling2d_1 (MaxPooling2 (None, 10, 10, 16)        0         \n",
      "_________________________________________________________________\n",
      "conv2d_2 (Conv2D)            (None, 8, 8, 32)          4640      \n",
      "_________________________________________________________________\n",
      "max_pooling2d_2 (MaxPooling2 (None, 4, 4, 32)          0         \n",
      "_________________________________________________________________\n",
      "conv2d_3 (Conv2D)            (None, 2, 2, 64)          18496     \n",
      "_________________________________________________________________\n",
      "max_pooling2d_3 (MaxPooling2 (None, 1, 1, 64)          0         \n",
      "_________________________________________________________________\n",
      "flatten_1 (Flatten)          (None, 64)                0         \n",
      "_________________________________________________________________\n",
      "dense_1 (Dense)              (None, 128)               8320      \n",
      "_________________________________________________________________\n",
      "dense_2 (Dense)              (None, 2)                 258       \n",
      "=================================================================\n",
      "Total params: 32,130\n",
      "Trainable params: 32,130\n",
      "Non-trainable params: 0\n",
      "_________________________________________________________________\n"
     ]
    }
   ],
   "source": [
    "# creating the CNN model\n",
    "model = Sequential()\n",
    "model.add(Conv2D(16, (5, 5), input_shape = (24, 24, 1), activation = 'relu'))\n",
    "model.add(MaxPooling2D(pool_size = (2, 2)))\n",
    "model.add(Conv2D(32, (3, 3), activation = 'relu'))\n",
    "model.add(MaxPooling2D(pool_size = (2, 2)))\n",
    "model.add(Conv2D(64, (3, 3), activation = 'relu'))\n",
    "model.add(MaxPooling2D(pool_size = (2, 2)))\n",
    "model.add(Flatten())\n",
    "model.add(Dense(128, activation = 'relu'))\n",
    "model.add(Dense(2, activation = 'softmax'))\n",
    "model.summary()"
   ]
  },
  {
   "cell_type": "code",
   "execution_count": 11,
   "metadata": {},
   "outputs": [],
   "source": [
    "# creating tensorboard\n",
    "import time\n",
    "name = \"open-close-eye-{}\".format(int(time.time()))\n",
    "tensorboard = TensorBoard(log_dir = \"logs/{}\".format(name))"
   ]
  },
  {
   "cell_type": "code",
   "execution_count": 12,
   "metadata": {},
   "outputs": [],
   "source": [
    "# compiling the model\n",
    "model.compile(optimizer = 'adam', loss = 'binary_crossentropy', metrics = ['accuracy'])"
   ]
  },
  {
   "cell_type": "code",
   "execution_count": 13,
   "metadata": {},
   "outputs": [
    {
     "name": "stdout",
     "output_type": "stream",
     "text": [
      "WARNING:tensorflow:From C:\\Users\\r\\Anaconda3\\lib\\site-packages\\tensorflow\\python\\ops\\math_ops.py:3066: to_int32 (from tensorflow.python.ops.math_ops) is deprecated and will be removed in a future version.\n",
      "Instructions for updating:\n",
      "Use tf.cast instead.\n",
      "Train on 3479 samples, validate on 387 samples\n",
      "Epoch 1/5\n",
      "3479/3479 [==============================] - 3s 1ms/step - loss: 0.6118 - acc: 0.6620 - val_loss: 0.4243 - val_acc: 0.8165\n",
      "Epoch 2/5\n",
      "3479/3479 [==============================] - 2s 583us/step - loss: 0.3152 - acc: 0.8764 - val_loss: 0.2084 - val_acc: 0.9380\n",
      "Epoch 3/5\n",
      "3479/3479 [==============================] - 2s 578us/step - loss: 0.2113 - acc: 0.9241 - val_loss: 0.1720 - val_acc: 0.9380\n",
      "Epoch 4/5\n",
      "3479/3479 [==============================] - 2s 581us/step - loss: 0.1678 - acc: 0.9371 - val_loss: 0.1373 - val_acc: 0.9587\n",
      "Epoch 5/5\n",
      "3479/3479 [==============================] - 2s 587us/step - loss: 0.1386 - acc: 0.9471 - val_loss: 0.1356 - val_acc: 0.9587\n"
     ]
    }
   ],
   "source": [
    "# fitting the training data to the model\n",
    "history = model.fit(X_train, y_train, epochs = 5, validation_split = 0.1, callbacks = [tensorboard])"
   ]
  },
  {
   "cell_type": "code",
   "execution_count": 14,
   "metadata": {},
   "outputs": [
    {
     "data": {
      "image/png": "[encoded data removed]",
      "text/plain": [
       "<Figure size 432x288 with 1 Axes>"
      ]
     },
     "metadata": {
      "needs_background": "light"
     },
     "output_type": "display_data"
    }
   ],
   "source": [
    "# visualizing the training and evaluation accuracy\n",
    "plt.plot(np.arange(5), history.history['acc'])\n",
    "plt.plot(np.arange(5), history.history['val_acc'])\n",
    "plt.title('accuracy vs epochs')\n",
    "plt.xlabel('epochs')\n",
    "plt.ylabel('accuracy')\n",
    "plt.legend(['training accuracy', 'validation accuracy'])\n",
    "plt.show()"
   ]
  },
  {
   "cell_type": "code",
   "execution_count": 15,
   "metadata": {},
   "outputs": [
    {
     "name": "stdout",
     "output_type": "stream",
     "text": [
      "3866/3866 [==============================] - 1s 158us/step\n",
      "test loss: 0.12\n",
      "test accuracy: 0.958\n"
     ]
    }
   ],
   "source": [
    "# Test set evalutaion\n",
    "test_loss, test_accuracy = model.evaluate(X_test, y_test)\n",
    "print(f'test loss: {test_loss:.3}')\n",
    "print(f'test accuracy: {test_accuracy:.3}')"
   ]
  },
  {
   "cell_type": "markdown",
   "metadata": {},
   "source": [
    "# Part 3: Prediction on sample image"
   ]
  },
  {
   "cell_type": "code",
   "execution_count": 16,
   "metadata": {},
   "outputs": [
    {
     "name": "stdout",
     "output_type": "stream",
     "text": [
      "prediction:  close\n",
      "actual value:  close\n"
     ]
    }
   ],
   "source": [
    "# make prediction with the trained model\n",
    "sample_image = 100\n",
    "prediction = np.argmax(model.predict(X_test[None, sample_image]))\n",
    "actual = np.argmax(y_test[None, sample_image])\n",
    "print(\"prediction: \", categories[prediction])\n",
    "print(\"actual value: \", categories[actual])"
   ]
  },
  {
   "cell_type": "code",
   "execution_count": null,
   "metadata": {},
   "outputs": [],
   "source": []
  }
 ],
 "metadata": {
  "kernelspec": {
   "display_name": "Python 3",
   "language": "python",
   "name": "python3"
  },
  "language_info": {
   "codemirror_mode": {
    "name": "ipython",
    "version": 3
   },
   "file_extension": ".py",
   "mimetype": "text/x-python",
   "name": "python",
   "nbconvert_exporter": "python",
   "pygments_lexer": "ipython3",
   "version": "3.7.3"
  }
 },
 "nbformat": 4,
 "nbformat_minor": 1
}
